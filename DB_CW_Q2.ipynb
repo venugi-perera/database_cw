{
  "nbformat": 4,
  "nbformat_minor": 0,
  "metadata": {
    "colab": {
      "provenance": [],
      "authorship_tag": "ABX9TyPP8KJD8PoAHDaZ5Rot5uf1",
      "include_colab_link": true
    },
    "kernelspec": {
      "name": "python3",
      "display_name": "Python 3"
    },
    "language_info": {
      "name": "python"
    }
  },
  "cells": [
    {
      "cell_type": "markdown",
      "metadata": {
        "id": "view-in-github",
        "colab_type": "text"
      },
      "source": [
        "<a href=\"https://colab.research.google.com/github/venugi-perera/database_cw/blob/main/DB_CW_Q2.ipynb\" target=\"_parent\"><img src=\"https://colab.research.google.com/assets/colab-badge.svg\" alt=\"Open In Colab\"/></a>"
      ]
    },
    {
      "cell_type": "markdown",
      "source": [
        "## Question 2.1"
      ],
      "metadata": {
        "id": "1xXOdRFP2ja6"
      }
    },
    {
      "cell_type": "code",
      "source": [
        "import numpy as np\n",
        "import pandas as pd"
      ],
      "metadata": {
        "id": "ig_EIzBW2s6D"
      },
      "execution_count": null,
      "outputs": []
    },
    {
      "cell_type": "code",
      "source": [
        "from google.colab import drive\n",
        "drive.mount(\"/content/gdrive\")"
      ],
      "metadata": {
        "colab": {
          "base_uri": "https://localhost:8080/",
          "height": 304
        },
        "id": "DL8WMZvU41Cq",
        "outputId": "b2ce2f72-7e4b-4f1a-b740-7ddb63c2bf33"
      },
      "execution_count": null,
      "outputs": [
        {
          "output_type": "error",
          "ename": "MessageError",
          "evalue": "Error: credential propagation was unsuccessful",
          "traceback": [
            "\u001b[0;31m---------------------------------------------------------------------------\u001b[0m",
            "\u001b[0;31mMessageError\u001b[0m                              Traceback (most recent call last)",
            "\u001b[0;32m<ipython-input-2-b79d998bf33d>\u001b[0m in \u001b[0;36m<cell line: 2>\u001b[0;34m()\u001b[0m\n\u001b[1;32m      1\u001b[0m \u001b[0;32mfrom\u001b[0m \u001b[0mgoogle\u001b[0m\u001b[0;34m.\u001b[0m\u001b[0mcolab\u001b[0m \u001b[0;32mimport\u001b[0m \u001b[0mdrive\u001b[0m\u001b[0;34m\u001b[0m\u001b[0;34m\u001b[0m\u001b[0m\n\u001b[0;32m----> 2\u001b[0;31m \u001b[0mdrive\u001b[0m\u001b[0;34m.\u001b[0m\u001b[0mmount\u001b[0m\u001b[0;34m(\u001b[0m\u001b[0;34m\"/content/gdrive\"\u001b[0m\u001b[0;34m)\u001b[0m\u001b[0;34m\u001b[0m\u001b[0;34m\u001b[0m\u001b[0m\n\u001b[0m",
            "\u001b[0;32m/usr/local/lib/python3.10/dist-packages/google/colab/drive.py\u001b[0m in \u001b[0;36mmount\u001b[0;34m(mountpoint, force_remount, timeout_ms, readonly)\u001b[0m\n\u001b[1;32m     98\u001b[0m \u001b[0;32mdef\u001b[0m \u001b[0mmount\u001b[0m\u001b[0;34m(\u001b[0m\u001b[0mmountpoint\u001b[0m\u001b[0;34m,\u001b[0m \u001b[0mforce_remount\u001b[0m\u001b[0;34m=\u001b[0m\u001b[0;32mFalse\u001b[0m\u001b[0;34m,\u001b[0m \u001b[0mtimeout_ms\u001b[0m\u001b[0;34m=\u001b[0m\u001b[0;36m120000\u001b[0m\u001b[0;34m,\u001b[0m \u001b[0mreadonly\u001b[0m\u001b[0;34m=\u001b[0m\u001b[0;32mFalse\u001b[0m\u001b[0;34m)\u001b[0m\u001b[0;34m:\u001b[0m\u001b[0;34m\u001b[0m\u001b[0;34m\u001b[0m\u001b[0m\n\u001b[1;32m     99\u001b[0m   \u001b[0;34m\"\"\"Mount your Google Drive at the specified mountpoint path.\"\"\"\u001b[0m\u001b[0;34m\u001b[0m\u001b[0;34m\u001b[0m\u001b[0m\n\u001b[0;32m--> 100\u001b[0;31m   return _mount(\n\u001b[0m\u001b[1;32m    101\u001b[0m       \u001b[0mmountpoint\u001b[0m\u001b[0;34m,\u001b[0m\u001b[0;34m\u001b[0m\u001b[0;34m\u001b[0m\u001b[0m\n\u001b[1;32m    102\u001b[0m       \u001b[0mforce_remount\u001b[0m\u001b[0;34m=\u001b[0m\u001b[0mforce_remount\u001b[0m\u001b[0;34m,\u001b[0m\u001b[0;34m\u001b[0m\u001b[0;34m\u001b[0m\u001b[0m\n",
            "\u001b[0;32m/usr/local/lib/python3.10/dist-packages/google/colab/drive.py\u001b[0m in \u001b[0;36m_mount\u001b[0;34m(mountpoint, force_remount, timeout_ms, ephemeral, readonly)\u001b[0m\n\u001b[1;32m    131\u001b[0m   )\n\u001b[1;32m    132\u001b[0m   \u001b[0;32mif\u001b[0m \u001b[0mephemeral\u001b[0m\u001b[0;34m:\u001b[0m\u001b[0;34m\u001b[0m\u001b[0;34m\u001b[0m\u001b[0m\n\u001b[0;32m--> 133\u001b[0;31m     _message.blocking_request(\n\u001b[0m\u001b[1;32m    134\u001b[0m         \u001b[0;34m'request_auth'\u001b[0m\u001b[0;34m,\u001b[0m \u001b[0mrequest\u001b[0m\u001b[0;34m=\u001b[0m\u001b[0;34m{\u001b[0m\u001b[0;34m'authType'\u001b[0m\u001b[0;34m:\u001b[0m \u001b[0;34m'dfs_ephemeral'\u001b[0m\u001b[0;34m}\u001b[0m\u001b[0;34m,\u001b[0m \u001b[0mtimeout_sec\u001b[0m\u001b[0;34m=\u001b[0m\u001b[0;32mNone\u001b[0m\u001b[0;34m\u001b[0m\u001b[0;34m\u001b[0m\u001b[0m\n\u001b[1;32m    135\u001b[0m     )\n",
            "\u001b[0;32m/usr/local/lib/python3.10/dist-packages/google/colab/_message.py\u001b[0m in \u001b[0;36mblocking_request\u001b[0;34m(request_type, request, timeout_sec, parent)\u001b[0m\n\u001b[1;32m    174\u001b[0m       \u001b[0mrequest_type\u001b[0m\u001b[0;34m,\u001b[0m \u001b[0mrequest\u001b[0m\u001b[0;34m,\u001b[0m \u001b[0mparent\u001b[0m\u001b[0;34m=\u001b[0m\u001b[0mparent\u001b[0m\u001b[0;34m,\u001b[0m \u001b[0mexpect_reply\u001b[0m\u001b[0;34m=\u001b[0m\u001b[0;32mTrue\u001b[0m\u001b[0;34m\u001b[0m\u001b[0;34m\u001b[0m\u001b[0m\n\u001b[1;32m    175\u001b[0m   )\n\u001b[0;32m--> 176\u001b[0;31m   \u001b[0;32mreturn\u001b[0m \u001b[0mread_reply_from_input\u001b[0m\u001b[0;34m(\u001b[0m\u001b[0mrequest_id\u001b[0m\u001b[0;34m,\u001b[0m \u001b[0mtimeout_sec\u001b[0m\u001b[0;34m)\u001b[0m\u001b[0;34m\u001b[0m\u001b[0;34m\u001b[0m\u001b[0m\n\u001b[0m",
            "\u001b[0;32m/usr/local/lib/python3.10/dist-packages/google/colab/_message.py\u001b[0m in \u001b[0;36mread_reply_from_input\u001b[0;34m(message_id, timeout_sec)\u001b[0m\n\u001b[1;32m    101\u001b[0m     ):\n\u001b[1;32m    102\u001b[0m       \u001b[0;32mif\u001b[0m \u001b[0;34m'error'\u001b[0m \u001b[0;32min\u001b[0m \u001b[0mreply\u001b[0m\u001b[0;34m:\u001b[0m\u001b[0;34m\u001b[0m\u001b[0;34m\u001b[0m\u001b[0m\n\u001b[0;32m--> 103\u001b[0;31m         \u001b[0;32mraise\u001b[0m \u001b[0mMessageError\u001b[0m\u001b[0;34m(\u001b[0m\u001b[0mreply\u001b[0m\u001b[0;34m[\u001b[0m\u001b[0;34m'error'\u001b[0m\u001b[0;34m]\u001b[0m\u001b[0;34m)\u001b[0m\u001b[0;34m\u001b[0m\u001b[0;34m\u001b[0m\u001b[0m\n\u001b[0m\u001b[1;32m    104\u001b[0m       \u001b[0;32mreturn\u001b[0m \u001b[0mreply\u001b[0m\u001b[0;34m.\u001b[0m\u001b[0mget\u001b[0m\u001b[0;34m(\u001b[0m\u001b[0;34m'data'\u001b[0m\u001b[0;34m,\u001b[0m \u001b[0;32mNone\u001b[0m\u001b[0;34m)\u001b[0m\u001b[0;34m\u001b[0m\u001b[0;34m\u001b[0m\u001b[0m\n\u001b[1;32m    105\u001b[0m \u001b[0;34m\u001b[0m\u001b[0m\n",
            "\u001b[0;31mMessageError\u001b[0m: Error: credential propagation was unsuccessful"
          ]
        }
      ]
    },
    {
      "cell_type": "code",
      "source": [
        "import pandas as pd\n",
        "file_path2 = '/content/gdrive/My Drive/Assesment 02/telecom_dataset_v2.csv'\n",
        "data2 = pd.read_csv(file_path2)\n",
        "file_path1 = '/content/gdrive/My Drive/Assesment 02/telecom_dataset_v1.csv'\n",
        "data1 = pd.read_csv(file_path1)\n",
        "data1.head()"
      ],
      "metadata": {
        "id": "z4azYqsM4Tvl"
      },
      "execution_count": null,
      "outputs": []
    },
    {
      "cell_type": "code",
      "source": [
        "data1 = pd.read_csv(\"telecom_dataset_v1.csv\")\n",
        "data2 = pd.read_csv(\"telecom_dataset_v2.csv\")"
      ],
      "metadata": {
        "id": "Xl11nwQ62wEq"
      },
      "execution_count": null,
      "outputs": []
    },
    {
      "cell_type": "code",
      "source": [
        "data1.head()"
      ],
      "metadata": {
        "id": "XrIZl6y436hV"
      },
      "execution_count": null,
      "outputs": []
    },
    {
      "cell_type": "code",
      "source": [
        "combined_df = pd.concat([data1, data2], ignore_index=True)\n",
        "combined_df.head()"
      ],
      "metadata": {
        "id": "ITWiDg4b7ZvZ"
      },
      "execution_count": null,
      "outputs": []
    },
    {
      "cell_type": "code",
      "source": [
        "import pandas as pd\n"
      ],
      "metadata": {
        "id": "bVtoGPBb9f_e"
      },
      "execution_count": null,
      "outputs": []
    },
    {
      "cell_type": "code",
      "source": [
        "df = pd.read_csv('telecom_dataset_v2.csv')\n",
        "df.head()"
      ],
      "metadata": {
        "id": "iqzvNbCX9waO"
      },
      "execution_count": null,
      "outputs": []
    },
    {
      "cell_type": "code",
      "source": [
        "data1.columns"
      ],
      "metadata": {
        "id": "SYKcUKvvALxL"
      },
      "execution_count": null,
      "outputs": []
    },
    {
      "cell_type": "code",
      "source": [
        "# Left join\n",
        "merged_left = pd.merge(left=data1, right=data2, how='left', left_on='state', right_on='state')\n",
        "print(merged_left)\n"
      ],
      "metadata": {
        "id": "fkX1jToD_qYE"
      },
      "execution_count": null,
      "outputs": []
    },
    {
      "cell_type": "code",
      "source": [
        "# right join\n",
        "merged_right = pd.merge(left=data1, right=data2, how='right', left_on='state', right_on='state')\n",
        "print(merged_right)\n"
      ],
      "metadata": {
        "id": "g-HF7YrqAVlU"
      },
      "execution_count": null,
      "outputs": []
    },
    {
      "cell_type": "code",
      "source": [
        "merged_inner = pd.merge(left=data1, right=data1, left_on='state', right_on='state')\n",
        "merged_inner.head()"
      ],
      "metadata": {
        "id": "0h45vWikMfnZ"
      },
      "execution_count": null,
      "outputs": []
    },
    {
      "cell_type": "markdown",
      "source": [
        "## Question 2.2"
      ],
      "metadata": {
        "id": "QzNJUddchaFl"
      }
    },
    {
      "cell_type": "code",
      "execution_count": null,
      "metadata": {
        "id": "ODV1HUYvK2EN"
      },
      "outputs": [],
      "source": [
        "import numpy as np\n",
        "import pandas as pd\n"
      ]
    },
    {
      "cell_type": "code",
      "source": [
        "df = pd.read_csv(\"telecom_dataset.csv\")"
      ],
      "metadata": {
        "id": "UdGirBOwh5tL"
      },
      "execution_count": null,
      "outputs": []
    },
    {
      "cell_type": "code",
      "source": [
        "df.head()"
      ],
      "metadata": {
        "id": "WHdYLvtfQq_A"
      },
      "execution_count": null,
      "outputs": []
    },
    {
      "cell_type": "code",
      "source": [
        "print(df.info())"
      ],
      "metadata": {
        "id": "CYH9MC0OQzyu"
      },
      "execution_count": null,
      "outputs": []
    },
    {
      "cell_type": "code",
      "source": [
        "print(df.describe())\n"
      ],
      "metadata": {
        "id": "2rDIbmTuQ17u"
      },
      "execution_count": null,
      "outputs": []
    },
    {
      "cell_type": "code",
      "source": [
        "print(\"Column names in data1:\", data1.columns)\n",
        "print(\"Column names in data2:\", data2.columns)"
      ],
      "metadata": {
        "id": "mlayVQptO8yZ"
      },
      "execution_count": null,
      "outputs": []
    },
    {
      "cell_type": "code",
      "source": [
        "print(\"Data types in data1:\", data1.dtypes)\n",
        "print(\"Data types in data2:\", data2.dtypes)\n",
        "\n",
        "data2['area code'] = data2['area code'].astype(float)\n"
      ],
      "metadata": {
        "id": "a6-rSrVEQehC"
      },
      "execution_count": null,
      "outputs": []
    },
    {
      "cell_type": "code",
      "source": [
        "data1.dropna(inplace=True)\n",
        "data2.fillna(0, inplace=True)\n"
      ],
      "metadata": {
        "id": "5eXYdDD4QwER"
      },
      "execution_count": null,
      "outputs": []
    },
    {
      "cell_type": "code",
      "source": [
        "print(\"Duplicates in data1:\", data1.duplicated().sum())\n",
        "print(\"Duplicates in data2:\", data2.duplicated().sum())\n",
        "\n",
        "data1.drop_duplicates(inplace=True)\n",
        "data2.drop_duplicates(inplace=True)\n"
      ],
      "metadata": {
        "id": "UFlG4MaJQ4kQ"
      },
      "execution_count": null,
      "outputs": []
    },
    {
      "cell_type": "code",
      "source": [
        "if data1['area code'].equals(data2['area code']):\n",
        "    print(\"Key columns have consistent values.\")\n",
        "else:\n",
        "    print(\"Key columns have inconsistent values.\")\n"
      ],
      "metadata": {
        "id": "g4yiPqUKRT9b"
      },
      "execution_count": null,
      "outputs": []
    },
    {
      "cell_type": "code",
      "source": [
        "grouped_df = df.groupby(['area code', 'churn']).size().reset_index(name='count')\n",
        "\n",
        "print(grouped_df)"
      ],
      "metadata": {
        "id": "okLLDACrojvv"
      },
      "execution_count": null,
      "outputs": []
    },
    {
      "cell_type": "code",
      "source": [
        "total_rows_combined = len(combined_df)\n",
        "\n",
        "total_rows_df1 = len(data1)\n",
        "total_rows_df2 = len(data2)\n",
        "\n",
        "total_rows_individual = total_rows_df1 + total_rows_df2\n",
        "\n",
        "if total_rows_combined == total_rows_individual:\n",
        "    print(\"The combined DataFrame contains all the data from the individual files without any loss or duplication.\")\n",
        "else:\n",
        "    print(\"There may be some loss or duplication of data in the combined DataFrame.\")\n"
      ],
      "metadata": {
        "id": "Vc0rssnpSoxV"
      },
      "execution_count": null,
      "outputs": []
    },
    {
      "cell_type": "code",
      "source": [
        "grouped_df = df.groupby(['area code', 'churn']).size().reset_index(name='count')\n",
        "\n",
        "# Sort the DataFrame by 'count' column in descending order\n",
        "sorted_df = grouped_df.sort_values(by='count', ascending=False)\n",
        "\n",
        "print(sorted_df)"
      ],
      "metadata": {
        "id": "bsk5gKJCFdtk"
      },
      "execution_count": null,
      "outputs": []
    },
    {
      "cell_type": "code",
      "source": [
        "import matplotlib.pyplot as plt\n",
        "import seaborn as sns\n",
        "\n",
        "plt.figure(figsize=(8, 6))\n",
        "sns.histplot(df['total day minutes'], bins=20, kde=True)\n",
        "plt.xlabel('Total Day Minutes')\n",
        "plt.ylabel('Frequency')\n",
        "plt.title('Distribution of Total Day Minutes')\n",
        "plt.show()\n"
      ],
      "metadata": {
        "id": "7t9bCLj0HZFu"
      },
      "execution_count": null,
      "outputs": []
    },
    {
      "cell_type": "code",
      "source": [
        "plt.figure(figsize=(12, 6))\n",
        "sns.countplot(data=df, x='state', hue='churn')\n",
        "plt.title('Count of Churned and Non-Churned Customers by State')\n",
        "plt.xlabel('State')\n",
        "plt.ylabel('Count')\n",
        "plt.xticks(rotation=45)\n",
        "plt.legend(title='Churn')\n",
        "plt.show()\n"
      ],
      "metadata": {
        "id": "oNNOU-vhMlCe"
      },
      "execution_count": null,
      "outputs": []
    },
    {
      "cell_type": "code",
      "source": [
        "plt.figure(figsize=(10, 6))\n",
        "sns.scatterplot(data=df, x='total day minutes', y='total day charge', hue='churn')\n",
        "plt.title('Relationship between Total Day Minutes and Total Day Charge (with Churn)')\n",
        "plt.xlabel('Total Day Minutes')\n",
        "plt.ylabel('Total Day Charge')\n",
        "plt.legend(title='Churn')\n",
        "plt.grid(True)\n",
        "plt.show()\n",
        "\n"
      ],
      "metadata": {
        "id": "Rq9Qr84vNBTr"
      },
      "execution_count": null,
      "outputs": []
    },
    {
      "cell_type": "code",
      "source": [
        "plt.figure(figsize=(8, 6))\n",
        "sns.boxplot(data=df, x='churn', y='total night charge')\n",
        "plt.title('Distribution of Total Night Charge by Churn')\n",
        "plt.xlabel('Churn')\n",
        "plt.ylabel('Total Night Charge')\n",
        "plt.show()\n",
        "\n"
      ],
      "metadata": {
        "id": "zAuU5tl1NCiM"
      },
      "execution_count": null,
      "outputs": []
    },
    {
      "cell_type": "code",
      "source": [
        "plt.figure(figsize=(6, 6))\n",
        "df['international plan'].value_counts().plot(kind='pie', autopct='%1.1f%%', colors=['skyblue', 'lightcoral'])\n",
        "plt.title('Percentage of Customers with International Plan')\n",
        "plt.ylabel('')\n",
        "plt.show()"
      ],
      "metadata": {
        "id": "bvQelqqjNDke"
      },
      "execution_count": null,
      "outputs": []
    },
    {
      "cell_type": "code",
      "source": [
        "churned_customers = df[df['churn'] == True]\n",
        "print(churned_customers)"
      ],
      "metadata": {
        "id": "cLYKCElqQoVM"
      },
      "execution_count": null,
      "outputs": []
    },
    {
      "cell_type": "code",
      "source": [
        "mean_day_minutes = np.mean(df['total day calls'])\n",
        "std_day_minutes = np.std(df['total day calls'])\n",
        "print(\"Mean:\", mean_day_minutes)\n",
        "print(\"Standard Deviation:\", std_day_minutes)\n"
      ],
      "metadata": {
        "id": "oxpAmcLrR1Nv"
      },
      "execution_count": null,
      "outputs": []
    },
    {
      "cell_type": "code",
      "source": [
        "print(df.isnull())"
      ],
      "metadata": {
        "id": "8Mxnh_zuWAjV"
      },
      "execution_count": null,
      "outputs": []
    },
    {
      "cell_type": "code",
      "source": [
        "print(df.notnull())"
      ],
      "metadata": {
        "id": "f4Ckj_j_WWhK"
      },
      "execution_count": null,
      "outputs": []
    },
    {
      "cell_type": "code",
      "source": [
        "nan_count = df.notnull().sum()\n",
        "print(nan_count)"
      ],
      "metadata": {
        "id": "dLYIptpMWtj6"
      },
      "execution_count": null,
      "outputs": []
    },
    {
      "cell_type": "code",
      "source": [
        "print(df.dropna())"
      ],
      "metadata": {
        "id": "tW0UpuasXn9E"
      },
      "execution_count": null,
      "outputs": []
    },
    {
      "cell_type": "code",
      "source": [
        "print(df.fillna(value=0))"
      ],
      "metadata": {
        "id": "lemqV30kXv3z"
      },
      "execution_count": null,
      "outputs": []
    },
    {
      "cell_type": "code",
      "source": [
        "print(df.interpolate())"
      ],
      "metadata": {
        "id": "CTf2W3eJX5tT"
      },
      "execution_count": null,
      "outputs": []
    },
    {
      "cell_type": "code",
      "source": [
        "print(df.replace(' ', \"Null\"))"
      ],
      "metadata": {
        "id": "48lsC4AcYBG6"
      },
      "execution_count": null,
      "outputs": []
    },
    {
      "cell_type": "code",
      "source": [
        "import pandas as pd\n",
        "import numpy as np\n",
        "\n",
        "mean_pandas = df['total intl charge'].mean()\n",
        "\n",
        "mean_numpy = np.mean(df['total intl charge'])\n",
        "\n",
        "print(\"Mean using Pandas:\", mean_pandas)\n",
        "print(\"Mean using NumPy:\", mean_numpy)\n"
      ],
      "metadata": {
        "id": "xTfs9VabZppa"
      },
      "execution_count": null,
      "outputs": []
    },
    {
      "cell_type": "code",
      "source": [
        "median_pandas = df['total day calls'].median()\n",
        "\n",
        "median_numpy = np.median(df['total day calls'])\n",
        "\n",
        "print(\"Median using Pandas:\", median_pandas)\n",
        "print(\"Median using Numpy:\", median_numpy)\n"
      ],
      "metadata": {
        "id": "G8hnwbwbaHAk"
      },
      "execution_count": null,
      "outputs": []
    },
    {
      "cell_type": "code",
      "source": [
        "std_pandas = df['total day minutes'].std()\n",
        "\n",
        "std_numpy = np.std(df['total day minutes'])\n",
        "\n",
        "print(\"Standard Deviation using Pandas:\", std_pandas)\n",
        "print(\"Standard Deviation using Numpy:\", std_numpy)\n"
      ],
      "metadata": {
        "id": "dzQuZGM6a49z"
      },
      "execution_count": null,
      "outputs": []
    },
    {
      "cell_type": "code",
      "source": [
        "min_pandas = df['total day calls'].min()\n",
        "\n",
        "min_numpy = np.min(df['total day calls'])\n",
        "\n",
        "print(\"Minimum using Pandas:\", min_pandas)\n",
        "print(\"Minimum using Numpy:\", min_numpy)\n"
      ],
      "metadata": {
        "id": "I03kIArQbVGL"
      },
      "execution_count": null,
      "outputs": []
    },
    {
      "cell_type": "code",
      "source": [
        "max_pandas = df['total day calls'].max()\n",
        "\n",
        "max_numpy = np.max(df['total day calls'])\n",
        "\n",
        "print(\"Maximum using Pandas:\", max_pandas)\n",
        "print(\"Maximum using Numpy:\", max_numpy)\n"
      ],
      "metadata": {
        "id": "rGLkKBBqbmAK"
      },
      "execution_count": null,
      "outputs": []
    },
    {
      "cell_type": "code",
      "source": [
        "quantiles_pandas = df['total day minutes'].quantile([0.25, 0.5, 0.75])\n",
        "\n",
        "quantiles_numpy = np.percentile(df['total day minutes'], [25, 50, 75])\n",
        "\n",
        "print(\"Quantiles using Pandas:\\n\", quantiles_pandas)\n",
        "print(\"Quantiles using Numpy:\\n\", quantiles_numpy)\n"
      ],
      "metadata": {
        "id": "vORzTuQTcEj9"
      },
      "execution_count": null,
      "outputs": []
    },
    {
      "cell_type": "code",
      "source": [
        "import seaborn as sns\n",
        "import matplotlib.pyplot as plt\n",
        "\n",
        "numerical_columns = df.select_dtypes(include=['int64', 'float64'])\n",
        "\n",
        "# Create pairplot\n",
        "sns.pairplot(numerical_columns)\n",
        "plt.show()\n"
      ],
      "metadata": {
        "id": "Rpim_8rkkEXv"
      },
      "execution_count": null,
      "outputs": []
    },
    {
      "cell_type": "code",
      "source": [
        "import matplotlib.pyplot as plt\n",
        "\n",
        "plt.hist(df['total day charge'], bins=20, color='skyblue', edgecolor='black')\n",
        "plt.xlabel('Total Day Charge')\n",
        "plt.ylabel('Frequency')\n",
        "plt.title('Distribution of Total Day Charge')\n",
        "plt.show()\n"
      ],
      "metadata": {
        "id": "yBZiWdvctHmg"
      },
      "execution_count": null,
      "outputs": []
    },
    {
      "cell_type": "code",
      "source": [
        "import seaborn as sns\n",
        "\n",
        "sns.histplot(df['total day charge'], bins=20, color='skyblue', edgecolor='black')\n",
        "plt.xlabel('Total Day Charge')\n",
        "plt.ylabel('Frequency')\n",
        "plt.title('Distribution of Total Day Charge')\n",
        "plt.show()\n"
      ],
      "metadata": {
        "id": "B9Boz2UMtnJy"
      },
      "execution_count": null,
      "outputs": []
    },
    {
      "cell_type": "code",
      "source": [
        "import matplotlib.pyplot as plt\n",
        "\n",
        "plt.scatter(df['total day minutes'], df['total day charge'], color='skyblue')\n",
        "plt.xlabel('X')\n",
        "plt.ylabel('Y')\n",
        "plt.title('Scatter Plot')\n",
        "plt.show()\n"
      ],
      "metadata": {
        "id": "l3FKCY8muANo"
      },
      "execution_count": null,
      "outputs": []
    },
    {
      "cell_type": "code",
      "source": [
        "import seaborn as sns\n",
        "\n",
        "sns.scatterplot(data=df, x='total day minutes', y='total day charge')\n",
        "plt.xlabel('Total Day Minutes')\n",
        "plt.ylabel('Total Day Charge')\n",
        "plt.title('Relationship between Total Day Minutes and Total Day Charge')\n",
        "plt.show()\n"
      ],
      "metadata": {
        "id": "ykg9NFJfuB8a"
      },
      "execution_count": null,
      "outputs": []
    },
    {
      "cell_type": "code",
      "source": [
        "import matplotlib.pyplot as plt\n",
        "\n",
        "total_day_calls_churned = df[df['churn'] == True]['total day calls']\n",
        "total_day_calls_not_churned = df[df['churn'] == False]['total day calls']\n",
        "\n",
        "plt.boxplot([total_day_calls_churned, total_day_calls_not_churned], labels=['Churned', 'Not Churned'])\n",
        "plt.xlabel('Churn')\n",
        "plt.ylabel('Total Day Calls')\n",
        "plt.title('Distribution of Total Day Calls by Churn')\n",
        "plt.show()\n"
      ],
      "metadata": {
        "id": "SrgJ7PN5uE6A"
      },
      "execution_count": null,
      "outputs": []
    },
    {
      "cell_type": "code",
      "source": [
        "import seaborn as sns\n",
        "\n",
        "sns.boxplot(data=df, x='churn', y='total day calls')\n",
        "plt.xlabel('Churn')\n",
        "plt.ylabel('Total Day Calls')\n",
        "plt.title('Distribution of Total Day Calls by Churn')\n",
        "plt.show()\n"
      ],
      "metadata": {
        "id": "MaFRN1aEuGbp"
      },
      "execution_count": null,
      "outputs": []
    },
    {
      "cell_type": "code",
      "source": [
        "import matplotlib.pyplot as plt\n",
        "\n",
        "state_counts = df['state'].value_counts()\n",
        "\n",
        "plt.bar(state_counts.index, state_counts.values)\n",
        "plt.xlabel('State')\n",
        "plt.ylabel('Count')\n",
        "plt.title('Bar Plot of State Counts')\n",
        "plt.xticks(rotation=45)\n",
        "plt.show()\n"
      ],
      "metadata": {
        "id": "bCjZyS9quLA4"
      },
      "execution_count": null,
      "outputs": []
    },
    {
      "cell_type": "code",
      "source": [
        "import seaborn as sns\n",
        "\n",
        "plt.figure(figsize=(12, 6))\n",
        "sns.countplot(data=df, x='state', hue='churn')\n",
        "plt.xlabel('State')\n",
        "plt.ylabel('Count')\n",
        "plt.title('Churn Counts by State')\n",
        "plt.xticks(rotation=45)\n",
        "plt.legend(title='Churn')\n",
        "plt.show()\n"
      ],
      "metadata": {
        "id": "GVX1cQO2uNN_"
      },
      "execution_count": null,
      "outputs": []
    },
    {
      "cell_type": "code",
      "source": [
        "non_numeric_columns = df.select_dtypes(exclude=['float64', 'int64']).columns\n",
        "\n",
        "df_numeric = df.drop(columns=non_numeric_columns)\n",
        "\n",
        "correlation_matrix = df_numeric.corr()\n",
        "plt.figure(figsize=(10, 8))\n",
        "sns.heatmap(correlation_matrix, annot=True, cmap='coolwarm', fmt=\".2f\")\n",
        "plt.title('Correlation Heatmap')\n",
        "plt.show()\n"
      ],
      "metadata": {
        "id": "yAYNvbubxcH6"
      },
      "execution_count": null,
      "outputs": []
    },
    {
      "cell_type": "code",
      "source": [
        "import seaborn as sns\n",
        "import matplotlib.pyplot as plt\n",
        "\n",
        "numerical_columns = df.select_dtypes(include=['int64', 'float64'])\n",
        "\n",
        "sns.pairplot(numerical_columns)\n",
        "plt.show()\n"
      ],
      "metadata": {
        "id": "6mzPLABmyY3A"
      },
      "execution_count": null,
      "outputs": []
    },
    {
      "cell_type": "code",
      "source": [
        "sns.jointplot(data=df, x='total day minutes', y='total day charge', kind='scatter')\n",
        "plt.show()\n"
      ],
      "metadata": {
        "id": "n9wvjSyeyvbJ"
      },
      "execution_count": null,
      "outputs": []
    },
    {
      "cell_type": "code",
      "source": [
        "df_numeric = df.drop(columns=['state', 'area code'])\n",
        "\n",
        "non_numeric_columns = df.select_dtypes(exclude=['float64', 'int64']).columns\n",
        "\n",
        "df_numeric = df.drop(columns=non_numeric_columns)\n",
        "\n",
        "sns.jointplot(x='total day calls', y='total day charge', data=df, kind='scatter')\n",
        "plt.title('Joint Plot')\n",
        "plt.show()\n"
      ],
      "metadata": {
        "id": "c848gg233Pdj"
      },
      "execution_count": null,
      "outputs": []
    },
    {
      "cell_type": "code",
      "source": [
        "plt.hexbin(df['total day calls'], df['total day charge'], gridsize=20, cmap='coolwarm')\n",
        "plt.colorbar(label='count in bin')\n",
        "plt.xlabel('total day calls')\n",
        "plt.ylabel('total day charge')\n",
        "plt.title('Hexbin Plot')\n",
        "plt.show()\n"
      ],
      "metadata": {
        "id": "B4JSDKcd4weA"
      },
      "execution_count": null,
      "outputs": []
    }
  ]
}